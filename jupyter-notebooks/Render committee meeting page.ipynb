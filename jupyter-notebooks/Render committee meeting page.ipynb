{
 "cells": [
  {
   "cell_type": "markdown",
   "metadata": {},
   "source": [
    "Render a simgle committee meeting page, part of the committees/dist pipelines which generate the static website at https://oknesset.org"
   ]
  },
  {
   "cell_type": "markdown",
   "metadata": {},
   "source": [
    "## Change to the project root directory\n",
    "\n",
    "Inside Docker the directory should be `/pipelines`"
   ]
  },
  {
   "cell_type": "code",
   "execution_count": 16,
   "metadata": {},
   "outputs": [
    {
     "name": "stdout",
     "output_type": "stream",
     "text": [
      "/pipelines\n"
     ]
    }
   ],
   "source": [
    "import os\n",
    "\n",
    "if os.getcwd() != '/pipelines':\n",
    "    os.chdir('..')\n",
    "\n",
    "PIPELINES_ROOT_DIR = os.getcwd()\n",
    "\n",
    "print(PIPELINES_ROOT_DIR)"
   ]
  },
  {
   "cell_type": "markdown",
   "metadata": {},
   "source": [
    "## Load the source data\n",
    "\n",
    "Can take a few minutes on the first run, depending on bandwidth"
   ]
  },
  {
   "cell_type": "code",
   "execution_count": 2,
   "metadata": {},
   "outputs": [],
   "source": [
    "import os\n",
    "\n",
    "if not all(map(os.path.exists, ['data/committees/kns_committee/datapackage.json',\n",
    "                                'data/people/committees/meeting-attendees/datapackage.json',\n",
    "                                'data/members/mk_individual/datapackage.json'])):\n",
    "    !{'KNESSET_LOAD_FROM_URL=1 dpp run --concurrency 4 '\\\n",
    "                                      './committees/kns_committee,'\\\n",
    "                                      './people/committee-meeting-attendees,'\\\n",
    "                                      './members/mk_individual'}"
   ]
  },
  {
   "cell_type": "markdown",
   "metadata": {},
   "source": [
    "## Run the build pipeline\n",
    "\n",
    "This pipeline aggregates the relevant data and allows to filter for quicker development cycles.\n",
    "\n",
    "You can uncomment and modify the filter step in [committees/dist/knesset.source-spec.yaml](https://github.com/hasadna/knesset-data-pipelines/blob/master/committees/dist/knesset.source-spec.yaml#L30) under the `build` pipeline\n",
    "\n",
    "The build pipeline can take a few minutes to process for the first time"
   ]
  },
  {
   "cell_type": "code",
   "execution_count": 3,
   "metadata": {},
   "outputs": [],
   "source": [
    "import os\n",
    "\n",
    "if not os.path.exists('data/committees/dist/build_meetings/datapackage.json'):\n",
    "    !{'dpp run --verbose ./committees/dist/build'}"
   ]
  },
  {
   "cell_type": "markdown",
   "metadata": {},
   "source": [
    "## Load required source data to RAM"
   ]
  },
  {
   "cell_type": "code",
   "execution_count": 4,
   "metadata": {},
   "outputs": [],
   "source": [
    "from datapackage_pipelines_knesset.committees.dist.meeting_context import get_meeting_context_data\n",
    "\n",
    "meeting_context_data = get_meeting_context_data()"
   ]
  },
  {
   "cell_type": "markdown",
   "metadata": {},
   "source": [
    "## Initialize the Jinja environment"
   ]
  },
  {
   "cell_type": "code",
   "execution_count": 5,
   "metadata": {},
   "outputs": [],
   "source": [
    "from datapackage_pipelines_knesset.committees.dist.template_functions import get_jinja_env\n",
    "\n",
    "jinja_env = get_jinja_env('committees/dist/templates')"
   ]
  },
  {
   "cell_type": "markdown",
   "metadata": {},
   "source": [
    "## Get a committee meeting row for testing"
   ]
  },
  {
   "cell_type": "code",
   "execution_count": 45,
   "metadata": {},
   "outputs": [
    {
     "name": "stdout",
     "output_type": "stream",
     "text": [
      "BroadcastUrl: http://main.knesset.gov.il/Activity/committees/Pages/AllCommitteesBroadcast.aspx?TopicID=7433\n",
      "CommitteeID: 922\n",
      "CommitteeSessionID: 562716\n",
      "FinishDate: null\n",
      "KnessetNum: 20\n",
      "LastUpdatedDate: 2015-04-19 09:04:43\n",
      "Location: חדר הוועדה, באגף הוועדות (קדמה), קומה 3, חדר 3750\n",
      "Note: null\n",
      "Number: 1\n",
      "SessionUrl: http://main.knesset.gov.il/Activity/committees/Pages/AllCommitteesAgenda.aspx?Tab=3&ItemID=562716\n",
      "StartDate: 2015-04-01 14:00:00\n",
      "TypeDesc: פתוחה\n",
      "TypeID: 161\n",
      "attended_mk_individual_ids:\n",
      "- 768\n",
      "- 230\n",
      "- 876\n",
      "- 911\n",
      "- 92\n",
      "committee_name: ועדת הכספים\n",
      "download_crc32c: /1BF2g==\n",
      "download_filename: files/23/2/8/286490.DOC\n",
      "download_filesize: 71168\n",
      "invitees:\n",
      "- name: אתי בן יוסף\n",
      "  role: מנהלת ועדת הכנסת, כנסת ישראל\n",
      "legal_advisors:\n",
      "- אייל לב ארי\n",
      "manager:\n",
      "- טמיר כהן\n",
      "mks:\n",
      "- זאב אלקין – יו\"ר הוועדה המסדרת\n",
      "- ניסן סלומינסקי – היו\"ר\n",
      "- אלי אלאלוף\n",
      "- מיקי לוי\n",
      "- איוב קרא\n",
      "- עאידה תומא-סלימאן\n",
      "parts_crc32c: W/pKBA==\n",
      "parts_filesize: 11218\n",
      "parts_parsed_filename: files/5/6/562716.csv\n",
      "text_crc32c: t643Ig==\n",
      "text_filesize: 11202\n",
      "text_parsed_filename: files/5/6/562716.txt\n",
      "topics:\n",
      "- בחירת יושב-ראש לוועדת הכספים הזמנית\n",
      "\n"
     ]
    }
   ],
   "source": [
    "from datapackage import Package\n",
    "import yaml\n",
    "\n",
    "build_meetings_package = Package('data/committees/dist/build_meetings/datapackage.json')\n",
    "meeting_rows_generator = build_meetings_package.get_resource('kns_committeesession').iter(keyed=True)\n",
    "\n",
    "meeting_rows_generator = (r for r in meeting_rows_generator if r['KnessetNum'] == 20)\n",
    "\n",
    "# filter meetings which have more then 2 attended mks\n",
    "meeting_rows_generator = (r for r in meeting_rows_generator if len(r['attended_mk_individual_ids']) > 2)\n",
    "\n",
    "meeting_row = next(meeting_rows_generator)\n",
    "print(yaml.dump(meeting_row, allow_unicode=True, default_flow_style=False))"
   ]
  },
  {
   "cell_type": "markdown",
   "metadata": {},
   "source": [
    "## Render the meeting page"
   ]
  },
  {
   "cell_type": "code",
   "execution_count": 46,
   "metadata": {},
   "outputs": [
    {
     "name": "stderr",
     "output_type": "stream",
     "text": [
      "DEBUG   :Starting new HTTP connection (1): storage.googleapis.com:80\n",
      "DEBUG   :http://storage.googleapis.com:80 \"GET /knesset-data-pipelines/data/committees/meeting_protocols_parts/files/5/6/562716.csv HTTP/1.1\" 200 11218\n",
      "DEBUG   :Starting new HTTP connection (2): storage.googleapis.com:80\n",
      "DEBUG   :http://storage.googleapis.com:80 \"GET /knesset-data-pipelines/data/committees/meeting_protocols_parts/files/5/6/562716.csv HTTP/1.1\" 200 11218\n",
      "INFO    :Building template committeemeeting_detail.html to data/committees/dist/dist/meetings/5/6/562716.html\n"
     ]
    }
   ],
   "source": [
    "import os\n",
    "from datapackage_pipelines_knesset.committees.dist.template_functions import build_template\n",
    "from datapackage_pipelines_knesset.committees.dist.committees_common import get_meeting_path\n",
    "from datapackage_pipelines_knesset.committees.dist import meeting_context\n",
    "\n",
    "# reload the meeting_context module in case you made some changes to it\n",
    "from importlib import reload\n",
    "reload(meeting_context)\n",
    "\n",
    "meeting_html_file_base_path = get_meeting_path(meeting_row)\n",
    "\n",
    "build_template(jinja_env,\n",
    "               \"committeemeeting_detail.html\",\n",
    "               meeting_context.get_meeting_context(meeting_row, meeting_context_data, use_data=False),\n",
    "               meeting_html_file_base_path,\n",
    "               output_root_dir='data/committees/dist/dist')\n"
   ]
  },
  {
   "cell_type": "markdown",
   "metadata": {},
   "source": [
    "## Copy the static files needed for the frontend"
   ]
  },
  {
   "cell_type": "code",
   "execution_count": 8,
   "metadata": {},
   "outputs": [
    {
     "name": "stdout",
     "output_type": "stream",
     "text": [
      "\u001b[1A\n",
      "\u001b[2K./committees/dist/copy_static_files: \u001b[31mWAITING FOR OUTPUT\u001b[0m\n",
      "\u001b[2A\n",
      "\u001b[2K./committees/dist/copy_static_files: \u001b[31mWAITING FOR OUTPUT\u001b[0m\n",
      "\u001b[2A\n",
      "\u001b[2K./committees/dist/copy_static_files: \u001b[32mSUCCESS, processed 0 rows\u001b[0m\n",
      "INFO    :RESULTS:\n",
      "INFO    :SUCCESS: ./committees/dist/copy_static_files {}\n"
     ]
    }
   ],
   "source": [
    "!{'dpp run ./committees/dist/copy_static_files'}"
   ]
  },
  {
   "cell_type": "markdown",
   "metadata": {},
   "source": [
    "## View the rendered html\n",
    "\n",
    "To view the output, run the following command from a terminal on the knesset-data-pipelines project root:\n",
    "\n",
    "```\n",
    "( cd data/committees/dist/dist; python -m http.server )\n",
    "```\n",
    "\n",
    "Followin script prints the preview url and url to same meeting on production website"
   ]
  },
  {
   "cell_type": "code",
   "execution_count": 47,
   "metadata": {},
   "outputs": [
    {
     "name": "stdout",
     "output_type": "stream",
     "text": [
      "\n",
      "-- rendered meeting - localhost url --\n",
      "\n",
      "http://localhost:8000/meetings/5/6/562716.html\n",
      "\n",
      "-- rendered meeting - production url --\n",
      "\n",
      "https://oknesset.org/meetings/5/6/562716.html\n"
     ]
    }
   ],
   "source": [
    "print('\\n-- rendered meeting - localhost url --\\n')\n",
    "print(f'http://localhost:8000/{meeting_html_file_base_path}')\n",
    "print('\\n-- rendered meeting - production url --\\n')\n",
    "print(f'https://oknesset.org/{meeting_html_file_base_path}')"
   ]
  },
  {
   "cell_type": "code",
   "execution_count": null,
   "metadata": {},
   "outputs": [],
   "source": []
  }
 ],
 "metadata": {
  "kernelspec": {
   "display_name": "Python 3",
   "language": "python",
   "name": "python3"
  },
  "language_info": {
   "codemirror_mode": {
    "name": "ipython",
    "version": 3
   },
   "file_extension": ".py",
   "mimetype": "text/x-python",
   "name": "python",
   "nbconvert_exporter": "python",
   "pygments_lexer": "ipython3",
   "version": "3.6.5"
  }
 },
 "nbformat": 4,
 "nbformat_minor": 2
}
